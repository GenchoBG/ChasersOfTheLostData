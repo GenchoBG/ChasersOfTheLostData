{
 "cells": [
  {
   "cell_type": "code",
   "execution_count": 20,
   "metadata": {},
   "outputs": [],
   "source": [
    "%matplotlib inline"
   ]
  },
  {
   "cell_type": "code",
   "execution_count": 21,
   "metadata": {},
   "outputs": [],
   "source": [
    "import numpy as np\n",
    "import pandas as pd\n",
    "import matplotlib.pyplot as plt"
   ]
  },
  {
   "cell_type": "code",
   "execution_count": 22,
   "metadata": {},
   "outputs": [],
   "source": [
    "landings = pd.read_csv(\"Meteorite_Landings.csv\")\n",
    "thing = pd.read_csv(\"GLC03122015.csv\")\n",
    "fireball = pd.read_csv(\"Fireball_And_Bolide_Reports.csv\")\n",
    "comets = pd.read_csv(\"Near-Earth_Comets_-_Orbital_Elements.csv\")"
   ]
  },
  {
   "cell_type": "code",
   "execution_count": 23,
   "metadata": {},
   "outputs": [],
   "source": [
    "def analyze(dataset, cell, details = True):\n",
    "    values = dataset[cell].unique()\n",
    "    print(len(values))\n",
    "    print(values)\n",
    "    if(details):\n",
    "        for value in values:\n",
    "            print(value, ' -> ', len(dataset[dataset[cell]==value]))"
   ]
  },
  {
   "cell_type": "code",
   "execution_count": 24,
   "metadata": {},
   "outputs": [
    {
     "name": "stdout",
     "output_type": "stream",
     "text": [
      "45716\n",
      "45716\n"
     ]
    },
    {
     "data": {
      "text/html": [
       "<div>\n",
       "<style scoped>\n",
       "    .dataframe tbody tr th:only-of-type {\n",
       "        vertical-align: middle;\n",
       "    }\n",
       "\n",
       "    .dataframe tbody tr th {\n",
       "        vertical-align: top;\n",
       "    }\n",
       "\n",
       "    .dataframe thead th {\n",
       "        text-align: right;\n",
       "    }\n",
       "</style>\n",
       "<table border=\"1\" class=\"dataframe\">\n",
       "  <thead>\n",
       "    <tr style=\"text-align: right;\">\n",
       "      <th></th>\n",
       "      <th>nametype</th>\n",
       "      <th>recclass</th>\n",
       "      <th>mass (g)</th>\n",
       "      <th>fall</th>\n",
       "      <th>year</th>\n",
       "      <th>reclat</th>\n",
       "      <th>reclong</th>\n",
       "      <th>GeoLocation</th>\n",
       "    </tr>\n",
       "  </thead>\n",
       "  <tbody>\n",
       "    <tr>\n",
       "      <td>0</td>\n",
       "      <td>Valid</td>\n",
       "      <td>L5</td>\n",
       "      <td>21.0</td>\n",
       "      <td>Fell</td>\n",
       "      <td>01/01/1880 12:00:00 AM</td>\n",
       "      <td>50.77500</td>\n",
       "      <td>6.08333</td>\n",
       "      <td>(50.775, 6.08333)</td>\n",
       "    </tr>\n",
       "    <tr>\n",
       "      <td>1</td>\n",
       "      <td>Valid</td>\n",
       "      <td>H6</td>\n",
       "      <td>720.0</td>\n",
       "      <td>Fell</td>\n",
       "      <td>01/01/1951 12:00:00 AM</td>\n",
       "      <td>56.18333</td>\n",
       "      <td>10.23333</td>\n",
       "      <td>(56.18333, 10.23333)</td>\n",
       "    </tr>\n",
       "    <tr>\n",
       "      <td>2</td>\n",
       "      <td>Valid</td>\n",
       "      <td>EH4</td>\n",
       "      <td>107000.0</td>\n",
       "      <td>Fell</td>\n",
       "      <td>01/01/1952 12:00:00 AM</td>\n",
       "      <td>54.21667</td>\n",
       "      <td>-113.00000</td>\n",
       "      <td>(54.21667, -113.0)</td>\n",
       "    </tr>\n",
       "    <tr>\n",
       "      <td>3</td>\n",
       "      <td>Valid</td>\n",
       "      <td>Acapulcoite</td>\n",
       "      <td>1914.0</td>\n",
       "      <td>Fell</td>\n",
       "      <td>01/01/1976 12:00:00 AM</td>\n",
       "      <td>16.88333</td>\n",
       "      <td>-99.90000</td>\n",
       "      <td>(16.88333, -99.9)</td>\n",
       "    </tr>\n",
       "    <tr>\n",
       "      <td>4</td>\n",
       "      <td>Valid</td>\n",
       "      <td>L6</td>\n",
       "      <td>780.0</td>\n",
       "      <td>Fell</td>\n",
       "      <td>01/01/1902 12:00:00 AM</td>\n",
       "      <td>-33.16667</td>\n",
       "      <td>-64.95000</td>\n",
       "      <td>(-33.16667, -64.95)</td>\n",
       "    </tr>\n",
       "  </tbody>\n",
       "</table>\n",
       "</div>"
      ],
      "text/plain": [
       "  nametype     recclass  mass (g)  fall                    year    reclat  \\\n",
       "0    Valid           L5      21.0  Fell  01/01/1880 12:00:00 AM  50.77500   \n",
       "1    Valid           H6     720.0  Fell  01/01/1951 12:00:00 AM  56.18333   \n",
       "2    Valid          EH4  107000.0  Fell  01/01/1952 12:00:00 AM  54.21667   \n",
       "3    Valid  Acapulcoite    1914.0  Fell  01/01/1976 12:00:00 AM  16.88333   \n",
       "4    Valid           L6     780.0  Fell  01/01/1902 12:00:00 AM -33.16667   \n",
       "\n",
       "     reclong           GeoLocation  \n",
       "0    6.08333     (50.775, 6.08333)  \n",
       "1   10.23333  (56.18333, 10.23333)  \n",
       "2 -113.00000    (54.21667, -113.0)  \n",
       "3  -99.90000     (16.88333, -99.9)  \n",
       "4  -64.95000   (-33.16667, -64.95)  "
      ]
     },
     "execution_count": 24,
     "metadata": {},
     "output_type": "execute_result"
    }
   ],
   "source": [
    "# happily there is one data entry per metorite\n",
    "# we can discard the name\n",
    "print(len(landings[\"name\"]))\n",
    "print(len(landings[\"name\"].unique()))\n",
    "\n",
    "landings = landings.drop([\"name\", 'id'], axis = 1)\n",
    "landings.head()"
   ]
  },
  {
   "cell_type": "code",
   "execution_count": 25,
   "metadata": {},
   "outputs": [
    {
     "name": "stdout",
     "output_type": "stream",
     "text": [
      "2148\n",
      "['03/07/2011 08:00:00 AM +0000' '04/01/2008 07:00:00 AM +0000'\n",
      " '01/30/2015 08:00:00 AM +0000' ... '12/22/2009 08:00:00 AM +0000'\n",
      " '09/27/2007 07:00:00 AM +0000' '11/18/2007 08:00:00 AM +0000']\n"
     ]
    }
   ],
   "source": [
    "#Useful\n",
    "analyze(thing, \"date_\", False)"
   ]
  },
  {
   "cell_type": "code",
   "execution_count": 26,
   "metadata": {},
   "outputs": [
    {
     "name": "stdout",
     "output_type": "stream",
     "text": [
      "3\n",
      "['12/30/1899 08:00:00 AM +0000' nan '01/12/1900 08:00:00 AM +0000']\n",
      "12/30/1899 08:00:00 AM +0000  ->  1268\n",
      "nan  ->  0\n",
      "01/12/1900 08:00:00 AM +0000  ->  1\n"
     ]
    }
   ],
   "source": [
    "#Useless\n",
    "analyze(thing, \"time_\")"
   ]
  },
  {
   "cell_type": "code",
   "execution_count": 27,
   "metadata": {},
   "outputs": [
    {
     "name": "stdout",
     "output_type": "stream",
     "text": [
      "2\n",
      "['landslide' 'Lanslide']\n",
      "landslide  ->  6787\n",
      "Lanslide  ->  1\n"
     ]
    }
   ],
   "source": [
    "analyze(thing, \"hazard_typ\")\n"
   ]
  },
  {
   "cell_type": "code",
   "execution_count": 28,
   "metadata": {},
   "outputs": [
    {
     "name": "stdout",
     "output_type": "stream",
     "text": [
      "15\n",
      "['Mudslide' 'Landslide' 'Complex' 'Other' 'Rock_Fall' 'Debris_Flow'\n",
      " 'Rockfall' 'Snow_Avalanche' 'Unknown' 'Translational_Slide' 'mudslide'\n",
      " 'Creep' 'Lahar' 'Riverbank_Collapse' 'landslide']\n"
     ]
    }
   ],
   "source": [
    "analyze(thing, \"landslide_\", False)\n",
    "# TODO: Fix Landslide & landslide     rename - landslide_type"
   ]
  },
  {
   "cell_type": "code",
   "execution_count": 29,
   "metadata": {},
   "outputs": [
    {
     "name": "stdout",
     "output_type": "stream",
     "text": [
      "165\n",
      "[nan 'Trami' 'Cyclone Giri' 'Hurricane Felix' '3 days of rain'\n",
      " 'Cyclone Nargis' 'Hudhud' 'Typhoon Kompasu' 'and Rain'\n",
      " 'Tropical Storm Richard' 'Wipha' 'Tropical Cyclone Hubert'\n",
      " 'Typhoon Morakot' 'Hurricane Tomas' 'Manuel' 'Lusi' 'Kong Rey'\n",
      " 'Typhoon Ketsana' 'Utor' 'Tropical Storm Olga' 'Typhoon Sinlaku'\n",
      " 'Typhoon Fanapi' 'Storm Xynthia' 'Luis' 'Typhoon Sepat' 'Typhoon Megi'\n",
      " 'Soulik' 'Hurricane Karl and Tropical Storm Matthew'\n",
      " 'Supertyphoon Juan (Megi)' 'Typhoon Chedeng (Songda)' 'Rammasun'\n",
      " 'Hurricane Beatriz' 'Santi' 'Tropical Storm Meranti'\n",
      " 'Tropical Storm Tomas' 'Mangkhut' 'Tropical Storm Dodong (Sarika)'\n",
      " 'Hurricane Dora' 'Cyclone Wilma' 'Tropical Storm Alma'\n",
      " 'Tropical Depression Parma' 'Typhoon Ondoy (Ketsana)' 'Neoguri (Florita)'\n",
      " 'Hurricane Frank' 'Haiyan' 'Tropical Cyclone Wilma' 'Toraji'\n",
      " 'Tropical Cyclone Maring' 'Typhoon No. 2 and March 11th earthquake'\n",
      " 'Usagi' 'Agaton' 'Hurricane Sandy' '1 hour of rain'\n",
      " 'Tropical Storm Kammuri' 'Hurricane Dean' 'Typhoon Chanthu' 'Mario'\n",
      " 'Kalmaegi' 'Typhoon Pepeng' 'Typhoon Hagupit' 'Ingrid' 'Manyi'\n",
      " 'Typhoon Glenda (Kompasu)' 'Tropical Depression Nando'\n",
      " 'Tropical Depression Nango' 'Typhoon Krosa' 'Tropical Storm Henry'\n",
      " 'Tropical Storm Henrietta' 'Tropical Storm Nicole'\n",
      " 'Tropical Storm Labuyo' 'Podul' 'Hurricane Gustav' 'Typhoon Jangmi'\n",
      " 'Volcanic Material' 'Tropical Storm Ondoy (Ketsana)'\n",
      " 'Tropical Cyclone Agatha' 'Nakri' 'Cyclone Laila' 'Hurricane Karl'\n",
      " 'Tropical Storm Lando' 'Tropical Storm Mina/Mitag' 'Hurricane Lorenzo'\n",
      " 'Typhoon Parma' 'Tropical Storm Otto' 'Tropical Cyclone Ida'\n",
      " 'Typhoon Aure(Aere), Bebeng' 'Collapsed retaining wall' 'Hurricane Igor'\n",
      " 'Tropical Storm Noel' 'Amang' 'Tropical Storm Isaac' 'Typhoon Basyang'\n",
      " 'Typhoon Lekima' 'Typhoon Julian' 'Seniang' 'Typhoon Wipha' 'Mina'\n",
      " 'El Nino' 'Tropical Depression Urduja' 'Typhoon Igme (Fung-Wong)'\n",
      " 'Tropical Depression Dodong (Sarika)' 'Tropical Depression 16'\n",
      " 'Tropical Storm Falcon' 'Tropical Storm Matthew' 'Typhoon Kiko'\n",
      " 'Typhoon Fung-Wong' 'Tropical Storm Fay' 'Typhoon Mina'\n",
      " 'Tropical Storm Arthur' 'Tropical Storm Kabayan' 'Tropical Storm Sandy'\n",
      " 'Hurricane Hannah' 'Pablo' 'Typhoon Nangka (Feria)'\n",
      " 'Two inches since Midnight' 'Typhoon Man-yi' 'Typhoon Nina'\n",
      " 'Typhoon Chan-hom' 'Nilam' 'Trudy' 'Bertha' 'Tropical Storm Alex'\n",
      " 'Typhoon Neoguri' 'Typhoon Nalgae (Quiel)' 'Typhoon Washin (Sendong)'\n",
      " 'Hurricane Alex' 'Typhoon Conson' 'Fernand' 'Typhon Morakot (Kiko)'\n",
      " 'Cyclone Aila' 'Volcanic eruptoin' 'Tropical Wave'\n",
      " 'Tropical Storm Dante (Kujira)' 'Typhoon Meranti'\n",
      " 'Typhoon Jangmi and Higos' 'Typhoon Karen' 'Typhoon Koppu'\n",
      " 'Typhoon Fengshen' 'Tropical Storm Ambro' 'Heaviest Rain in 48 years'\n",
      " 'Ivo' 'Tropical Storm Ofel' 'Tropical Storm Gustav'\n",
      " 'Tropical Depression Pepeng' 'Typhoon Etau'\n",
      " 'Tropical Storm Halong (Cosme)' 'Typhoon Nanmadol' 'Tropical Storm Cebu'\n",
      " 'Tropical Storm Arlene' 'Typhoon Kalmaegi' 'Ruby' 'Typhoon Ramon'\n",
      " 'Tropical Cyclone Quinta' 'Tropical Storm Paula' 'Winnie'\n",
      " 'Hurricane Dolly' 'Typhoon No. 15' 'Andrea' 'Typhoon Mirinae'\n",
      " 'Typhoon Ineng' 'Tropical Storm Irina' 'Typhoon No. 9' 'Hurricane Katia'\n",
      " 'Hurricane Jimena' 'Typhoon Cosme']\n"
     ]
    }
   ],
   "source": [
    "# too little to give a fuck\n",
    "analyze(thing, \"storm_name\", False)"
   ]
  },
  {
   "cell_type": "code",
   "execution_count": 30,
   "metadata": {},
   "outputs": [
    {
     "name": "stdout",
     "output_type": "stream",
     "text": [
      "10\n",
      "['Medium' 'Small' 'Large' 'Very_large' 'unknown' 'large' 'medium' 'small'\n",
      " 'Extra Large' nan]\n",
      "Medium  ->  4851\n",
      "Small  ->  1277\n",
      "Large  ->  482\n",
      "Very_large  ->  79\n",
      "unknown  ->  26\n",
      "large  ->  23\n",
      "medium  ->  33\n",
      "small  ->  14\n",
      "Extra Large  ->  1\n",
      "nan  ->  0\n"
     ]
    }
   ],
   "source": [
    "analyze(thing, \"landslide1\", True)\n",
    "#TODO: filter & rename - severity"
   ]
  },
  {
   "cell_type": "code",
   "execution_count": 31,
   "metadata": {},
   "outputs": [
    {
     "name": "stdout",
     "output_type": "stream",
     "text": [
      "3\n",
      "['glc' 'test' nan]\n",
      "glc  ->  6695\n",
      "test  ->  92\n",
      "nan  ->  0\n"
     ]
    }
   ],
   "source": [
    "#BS\n",
    "analyze(thing, \"cat_src\", True)"
   ]
  },
  {
   "cell_type": "code",
   "execution_count": 32,
   "metadata": {},
   "outputs": [],
   "source": [
    "#TODO: figure out wtf distance distance means"
   ]
  },
  {
   "cell_type": "code",
   "execution_count": 33,
   "metadata": {},
   "outputs": [],
   "source": [
    "#TODO: near vs nearest_pl"
   ]
  },
  {
   "cell_type": "code",
   "execution_count": 34,
   "metadata": {},
   "outputs": [],
   "source": [
    "thing = thing.drop(['the_geom', \"hazard_typ\", 'OBJECTID', 'id', 'time_', \"storm_name\", 'source_nam', 'fatalities', 'injuries', 'source_lin', 'location_a', 'photos_lin', 'cat_src', 'cat_id', 'countrynam', 'adminname1', 'adminname2', 'population', 'countrycod', 'continentc', 'key_', 'version', 'user_id', 'tstamp', 'changeset_', 'distance', 'near', 'nearest_pl'], axis = 1)"
   ]
  },
  {
   "cell_type": "code",
   "execution_count": 37,
   "metadata": {},
   "outputs": [
    {
     "ename": "SyntaxError",
     "evalue": "invalid syntax (<ipython-input-37-908017fc249c>, line 1)",
     "output_type": "error",
     "traceback": [
      "\u001b[1;36m  File \u001b[1;32m\"<ipython-input-37-908017fc249c>\"\u001b[1;36m, line \u001b[1;32m1\u001b[0m\n\u001b[1;33m    thing.rename(columns='landslide1' : 'severity', inplace = True)\u001b[0m\n\u001b[1;37m                                      ^\u001b[0m\n\u001b[1;31mSyntaxError\u001b[0m\u001b[1;31m:\u001b[0m invalid syntax\n"
     ]
    }
   ],
   "source": [
    "thing.rename(columns={'landslide1':'severity', 'landslide_':'landslide_type', 'date_':'date'}, inplace=True)"
   ]
  },
  {
   "cell_type": "code",
   "execution_count": null,
   "metadata": {},
   "outputs": [],
   "source": [
    "thing.head()"
   ]
  }
 ],
 "metadata": {
  "kernelspec": {
   "display_name": "Python 3",
   "language": "python",
   "name": "python3"
  },
  "language_info": {
   "codemirror_mode": {
    "name": "ipython",
    "version": 3
   },
   "file_extension": ".py",
   "mimetype": "text/x-python",
   "name": "python",
   "nbconvert_exporter": "python",
   "pygments_lexer": "ipython3",
   "version": "3.7.1"
  }
 },
 "nbformat": 4,
 "nbformat_minor": 2
}
